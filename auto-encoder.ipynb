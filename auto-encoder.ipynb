{
  "cells": [
    {
      "cell_type": "code",
      "execution_count": null,
      "metadata": {
        "colab": {
          "base_uri": "https://localhost:8080/"
        },
        "id": "VJcoBnXyauKE",
        "outputId": "63433fa2-8933-42ec-a75c-e66755f4f2b0"
      },
      "outputs": [
        {
          "output_type": "stream",
          "name": "stdout",
          "text": [
            "Drive already mounted at /content/drive; to attempt to forcibly remount, call drive.mount(\"/content/drive\", force_remount=True).\n"
          ]
        }
      ],
      "source": [
        "from google.colab import drive\n",
        "drive.mount('/content/drive')"
      ]
    },
    {
      "cell_type": "code",
      "execution_count": null,
      "metadata": {
        "colab": {
          "base_uri": "https://localhost:8080/"
        },
        "id": "7TzH3vJC_ITP",
        "outputId": "ac8d20cf-e9c3-4a90-aa44-04a0025bd375"
      },
      "outputs": [
        {
          "output_type": "stream",
          "name": "stdout",
          "text": [
            "/content/drive/MyDrive/HCMUTE/data-mining\n"
          ]
        }
      ],
      "source": [
        "%cd /content/drive/MyDrive/HCMUTE/data-mining"
      ]
    },
    {
      "cell_type": "code",
      "execution_count": null,
      "metadata": {
        "id": "0JeSpXADa9S7"
      },
      "outputs": [],
      "source": [
        "# Data Analysis\n",
        "import pandas as pd\n",
        "import numpy as np\n",
        "\n",
        "# Data Visualization\n",
        "from matplotlib import pyplot as plt\n",
        "import seaborn as sns\n",
        "\n",
        "# Machine Learning\n",
        "from sklearn.impute import SimpleImputer\n",
        "from sklearn.model_selection import train_test_split\n",
        "from sklearn.preprocessing import StandardScaler\n",
        "from imblearn.over_sampling import SMOTE\n",
        "from sklearn.metrics import roc_auc_score\n",
        "from sklearn.ensemble import RandomForestClassifier\n",
        "from sklearn.metrics import classification_report\n",
        "from sklearn.metrics import accuracy_score\n",
        "from sklearn.metrics import confusion_matrix\n",
        "\n",
        "# Metrics (distance) and stats\n",
        "from scipy.spatial.distance import euclidean\n",
        "from scipy.stats import median_abs_deviation\n",
        "\n",
        "# Unsupervised (Machine) Learning\n",
        "from sklearn.cluster import KMeans\n",
        "from sklearn.metrics import silhouette_score\n",
        "\n",
        "#ANN\n",
        "import torch\n",
        "import torch.nn as nn\n",
        "import torch.optim as optim\n",
        "\n",
        "# save data\n",
        "import pickle"
      ]
    },
    {
      "cell_type": "code",
      "execution_count": null,
      "metadata": {
        "id": "BKWX9PJRa32Z"
      },
      "outputs": [],
      "source": [
        "# Tải dữ liệu training từ file\n",
        "with open('./ieee-fraud-detection/train-scaled.pickle', 'rb') as f:\n",
        "    X_train_scaled = pickle.load(f)\n",
        "\n",
        "with open('./ieee-fraud-detection/label-train-scaled.pickle', 'rb') as f:\n",
        "    y_train = pickle.load(f)\n",
        "    \n",
        "with open('./ieee-fraud-detection/val-scaled.pickle', 'rb') as f:\n",
        "    X_val_scaled = pickle.load(f)\n",
        "\n",
        "with open('./ieee-fraud-detection/label-val-scaled.pickle', 'rb') as f:\n",
        "    y_val = pickle.load(f)"
      ]
    },
    {
      "cell_type": "code",
      "execution_count": null,
      "metadata": {
        "id": "6cxMJI5JbPeF"
      },
      "outputs": [],
      "source": [
        "X_train_anc = X_train_scaled[y_train == 0]"
      ]
    },
    {
      "cell_type": "code",
      "execution_count": null,
      "metadata": {
        "id": "KRrjDmx6bV2Y"
      },
      "outputs": [],
      "source": [
        "class AutoEncoder(nn.Module):\n",
        "    def __init__(self, input_dim, hidden_dim):\n",
        "        super(AutoEncoder, self).__init__()\n",
        "        self.encoder = nn.Sequential(\n",
        "            nn.Linear(input_dim, hidden_dim),\n",
        "            nn.Sigmoid(),\n",
        "            nn.Linear(hidden_dim, hidden_dim//2),\n",
        "            nn.Sigmoid(),\n",
        "            nn.Linear(hidden_dim//2, hidden_dim//4),\n",
        "            nn.Sigmoid()\n",
        "            \n",
        "        )\n",
        "        self.decoder = nn.Sequential(\n",
        "            nn.Linear(hidden_dim//4, hidden_dim//2),\n",
        "            nn.Sigmoid(),\n",
        "            nn.Linear(hidden_dim//2, hidden_dim),\n",
        "            nn.Sigmoid(),\n",
        "            nn.Linear(hidden_dim, input_dim),\n",
        "            nn.Sigmoid()\n",
        "        )\n",
        "\n",
        "    def forward(self, x):\n",
        "        encoded = self.encoder(x)\n",
        "        decoded = self.decoder(encoded)\n",
        "        return decoded"
      ]
    },
    {
      "cell_type": "code",
      "execution_count": null,
      "metadata": {
        "id": "hcGrlZWLbdh8"
      },
      "outputs": [],
      "source": [
        "input_dim = 245\n",
        "hidden_dim = 128\n",
        "learning_rate = 0.01\n",
        "num_epochs = 54\n",
        "batch_size = 32"
      ]
    },
    {
      "cell_type": "code",
      "execution_count": null,
      "metadata": {
        "id": "CVOBr3qvbvOP"
      },
      "outputs": [],
      "source": [
        "model = AutoEncoder(input_dim, hidden_dim)"
      ]
    },
    {
      "cell_type": "code",
      "execution_count": null,
      "metadata": {
        "id": "wQNle9G8bxS4"
      },
      "outputs": [],
      "source": [
        "criterion = nn.MSELoss()\n",
        "optimizer = torch.optim.SGD(model.parameters(), lr=learning_rate)"
      ]
    },
    {
      "cell_type": "code",
      "execution_count": null,
      "metadata": {
        "colab": {
          "base_uri": "https://localhost:8080/"
        },
        "id": "h0pc_UB_bzzE",
        "outputId": "7efeb49b-8523-448c-a858-35078b00a403"
      },
      "outputs": [
        {
          "output_type": "stream",
          "name": "stdout",
          "text": [
            "Epoch [50/54], Loss: 0.011390430852770805\n",
            "Epoch [51/54], Loss: 0.01139017567038536\n",
            "Epoch [52/54], Loss: 0.011389922350645065\n",
            "Epoch [53/54], Loss: 0.011389674618840218\n",
            "Epoch [54/54], Loss: 0.011389431543648243\n"
          ]
        }
      ],
      "source": [
        "# Train the model\n",
        "for epoch in range(num_epochs):\n",
        "    for i in range(0, len(X_train_anc), batch_size):\n",
        "        batch = X_train_anc[i:i+batch_size]\n",
        "        batch = torch.tensor(batch, dtype=torch.float32)\n",
        "\n",
        "        # Forward pass\n",
        "        outputs = model(batch)\n",
        "\n",
        "        # Compute the loss\n",
        "        loss = criterion(outputs, batch)\n",
        "\n",
        "        # Backward and optimize\n",
        "        optimizer.zero_grad()\n",
        "        loss.backward()\n",
        "        optimizer.step()\n",
        "    \n",
        "#   Print the loss every 10 epochs\n",
        "    if (epoch+1) % 1 == 0:\n",
        "        print(f'Epoch [{epoch+1}/{num_epochs}], Loss: {loss.item()}')"
      ]
    },
    {
      "cell_type": "code",
      "execution_count": null,
      "metadata": {
        "colab": {
          "base_uri": "https://localhost:8080/"
        },
        "id": "NrDzkV4tb4H-",
        "outputId": "dffce940-2b2b-4acf-8892-ab2cf99978f9"
      },
      "outputs": [
        {
          "output_type": "execute_result",
          "data": {
            "text/plain": [
              "AutoEncoder(\n",
              "  (encoder): Sequential(\n",
              "    (0): Linear(in_features=245, out_features=128, bias=True)\n",
              "    (1): Sigmoid()\n",
              "    (2): Linear(in_features=128, out_features=64, bias=True)\n",
              "    (3): Sigmoid()\n",
              "    (4): Linear(in_features=64, out_features=32, bias=True)\n",
              "    (5): Sigmoid()\n",
              "  )\n",
              "  (decoder): Sequential(\n",
              "    (0): Linear(in_features=32, out_features=64, bias=True)\n",
              "    (1): Sigmoid()\n",
              "    (2): Linear(in_features=64, out_features=128, bias=True)\n",
              "    (3): Sigmoid()\n",
              "    (4): Linear(in_features=128, out_features=245, bias=True)\n",
              "    (5): Sigmoid()\n",
              "  )\n",
              ")"
            ]
          },
          "metadata": {},
          "execution_count": 14
        }
      ],
      "source": [
        "model"
      ]
    },
    {
      "cell_type": "code",
      "execution_count": null,
      "metadata": {
        "id": "uGJwwNnek7yP"
      },
      "outputs": [],
      "source": [
        "torch.save(model.state_dict(), 'weights_sgd_1.pth')"
      ]
    },
    {
      "cell_type": "code",
      "execution_count": null,
      "metadata": {
        "id": "EQYErZgblUAn"
      },
      "outputs": [],
      "source": []
    }
  ],
  "metadata": {
    "accelerator": "GPU",
    "colab": {
      "provenance": [],
      "gpuType": "T4"
    },
    "gpuClass": "standard",
    "kernelspec": {
      "display_name": "Python 3",
      "name": "python3"
    },
    "language_info": {
      "name": "python"
    }
  },
  "nbformat": 4,
  "nbformat_minor": 0
}